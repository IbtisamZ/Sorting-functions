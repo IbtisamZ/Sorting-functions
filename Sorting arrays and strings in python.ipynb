{
 "cells": [
  {
   "cell_type": "markdown",
   "metadata": {},
   "source": [
    "## Hello there! :)\n",
    "### You can find my answer for both questions in the cells down below:"
   ]
  },
  {
   "cell_type": "code",
   "execution_count": 2,
   "metadata": {},
   "outputs": [
    {
     "name": "stdout",
     "output_type": "stream",
     "text": [
      "Original array:\n",
      "3 2 1 \n",
      "Sorted array:\n",
      "1 2 3 "
     ]
    }
   ],
   "source": [
    "'''\n",
    "Question 1: \n",
    "\n",
    "Given an array of numbers, define a function sort(arr) that returns the same array, sorted.\n",
    "Assume all numbers are positive integers\n",
    "'''\n",
    "\n",
    "\n",
    "\n",
    "def Sort_array(arr): # defining the function\n",
    "    \n",
    "    \n",
    "    print(\"Original array:\") \n",
    "    for i in arr: # iterating through the original array\n",
    "        print(i, end = \" \")    # printing out all the elements in one line\n",
    "     \n",
    "    for i in range(0, len(arr)): # iterating through the array and selecting elements (starting from index 0)\n",
    "        for j in range(i+1, len(arr)): # comparing the selected element with other elements in the array (starting from the next index)\n",
    "            if (arr[i] > arr[j]): # if the selected element (from the outer loop) is bigger than the current element (from the inner loop), swap the two elements\n",
    "                temp = arr[i] # creating a temporary variable for the element that will be swapped (the larger number)\n",
    "                arr[i] = arr[j] # swapping the two elements \n",
    "                arr[j]= temp  # assigning the larger number to its new index\n",
    "                \n",
    "                \n",
    "    print(\"\\nSorted array:\");    \n",
    "    for i in range(0, len(arr)):   # iterating through the sorted array \n",
    "        print(arr[i], end = \" \")  # printing out all the elements in one line\n",
    "\n",
    "        \n",
    "a = [3, 2, 1]\n",
    "Sort_array(a) # calling the function   "
   ]
  },
  {
   "cell_type": "code",
   "execution_count": 4,
   "metadata": {},
   "outputs": [
    {
     "name": "stdout",
     "output_type": "stream",
     "text": [
      "Before sorting:\n",
      "ibtisam\n",
      "After sorting:\n",
      "abiimst"
     ]
    }
   ],
   "source": [
    "'''\n",
    "Question 2: \n",
    "\n",
    "Given a string, define a function sort(str) that returns the same string, sorted.\n",
    "Assume all characters are English letters.\n",
    "'''\n",
    "\n",
    "\n",
    "\n",
    "def Sort_string(string): # defining the function\n",
    "    \n",
    "    string = string.casefold() # converting all letters to lowercase (to ignore cases when comparing)\n",
    "    to_list = list(string.strip()) # converting the string into a list\n",
    "\n",
    "    \n",
    "    print(\"Before sorting:\");    \n",
    "    for i in to_list: # iterating through the orginial (unsorted) string\n",
    "        print(i, end = \"\")  # printing out all the elements in one line\n",
    "        \n",
    "    for i in range(0, len(to_list)): # iterating through the array and selecting elements (starting from index 0)\n",
    "        for j in range(i+1, len(to_list)): # comparing the selected element with other elements in the array (starting from the next index)\n",
    "            if (to_list[i] > to_list[j]): # if the selected element/letter comes later in the alphabetical order (larger) then swap the two elements\n",
    "                temp = to_list[i] #  creating a temporary variable for the element that will be swapped \n",
    "                to_list[i] = to_list[j] # swapping the two elements/letters\n",
    "                to_list[j] = temp   # assigning the letter (in temporary variable) to its new index\n",
    "\n",
    "    print(\"\\nAfter sorting:\");    \n",
    "    for i in range(0, len(to_list)):  # iterating through the sorted string\n",
    "        print(to_list[i], end = \"\")  # printing out all the elements in one line \n",
    "        \n",
    "        \n",
    "b = \"ibtisam\"\n",
    "Sort_string(b)  # calling the function  "
   ]
  }
 ],
 "metadata": {
  "kernelspec": {
   "display_name": "Python 3",
   "language": "python",
   "name": "python3"
  },
  "language_info": {
   "codemirror_mode": {
    "name": "ipython",
    "version": 3
   },
   "file_extension": ".py",
   "mimetype": "text/x-python",
   "name": "python",
   "nbconvert_exporter": "python",
   "pygments_lexer": "ipython3",
   "version": "3.7.6"
  }
 },
 "nbformat": 4,
 "nbformat_minor": 4
}
